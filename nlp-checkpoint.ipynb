{
 "cells": [
  {
   "cell_type": "code",
   "execution_count": 2,
   "metadata": {},
   "outputs": [],
   "source": [
    "from tensorflow.keras.layers.experimental.preprocessing import TextVectorization\n",
    "from tensorflow.keras import layers\n",
    "import pandas as pd\n",
    "pd.set_option('display.max_colwidth', None) \n",
    "from sklearn.neighbors import NearestNeighbors\n",
    "import string\n",
    "import re\n",
    "import joblib\n",
    "import os\n",
    "from IPython.display import display, Image"
   ]
  },
  {
   "cell_type": "code",
   "execution_count": 3,
   "metadata": {},
   "outputs": [],
   "source": [
    "reviews = pd.read_csv(\"moviesdatabase.csv\")"
   ]
  },
  {
   "cell_type": "code",
   "execution_count": 1,
   "metadata": {},
   "outputs": [],
   "source": [
    "# reviews.head(1)"
   ]
  },
  {
   "cell_type": "code",
   "execution_count": 5,
   "metadata": {},
   "outputs": [],
   "source": [
    "#All lower case\n",
    "#Remove numbers\n",
    "#Remove punctuation\n",
    "#translator = str.maketrans('', '', string.punctuation)\n",
    "#Remove whitespace\n",
    "\n",
    "# for i in range(len(reviews)):\n",
    "#     reviews[\"reviews\"][i] = reviews[\"reviews\"][i].lower()\n",
    "#     reviews[\"reviews\"][i] = re.sub(r'\\d+', '', reviews[\"reviews\"][i])\n",
    "#     reviews[\"reviews\"][i] = reviews[\"reviews\"][i].translate(translator)\n",
    "#     reviews[\"reviews\"][i] = \" \".join(reviews[\"reviews\"][i].split())\n",
    "# #print(reviews)\n",
    "# reviews.to_csv(\"reviewsClean.csv\", index=False)\n"
   ]
  },
  {
   "cell_type": "code",
   "execution_count": 4,
   "metadata": {},
   "outputs": [],
   "source": [
    "#print(len(reviews[\"reviews\"][0].split()))\n",
    "#print(round(sum([len(i.split())for i in reviews[\"reviews\"]])/len(reviews[\"reviews\"])))\n",
    "\n",
    "max_vocab_length = 10000\n",
    "max_length = 1000"
   ]
  },
  {
   "cell_type": "code",
   "execution_count": 5,
   "metadata": {},
   "outputs": [],
   "source": [
    "text_vectorizer = TextVectorization(max_tokens=max_vocab_length,\n",
    "                                    output_mode=\"int\",\n",
    "                                    output_sequence_length=max_length,\n",
    "                                    pad_to_max_tokens=True)\n",
    "\n",
    "text_vectorizer.adapt(reviews[\"reviews\"])"
   ]
  },
  {
   "cell_type": "code",
   "execution_count": 8,
   "metadata": {},
   "outputs": [],
   "source": [
    "#random_sentence = random.choice(reviews[\"reviews\"])\n",
    "#print(random_sentence)\n",
    "#print(text_vectorizer(random_sentence))\n",
    "\n",
    "#words_in_vocab = text_vectorizer.get_vocabulary()\n",
    "#top_5_words = words_in_vocab[:5]\n",
    "#bottom_5_words = words_in_vocab[-5:]\n",
    "#print(top_5_words,bottom_5_words)"
   ]
  },
  {
   "cell_type": "code",
   "execution_count": 6,
   "metadata": {},
   "outputs": [],
   "source": [
    "embedding = layers.Embedding(input_dim=max_vocab_length,\n",
    "                             output_dim=32,\n",
    "                             input_length=max_length)\n",
    "\n",
    "\n",
    "#print(embedding(text_vectorizer(random_sentence)))"
   ]
  },
  {
   "cell_type": "code",
   "execution_count": 7,
   "metadata": {},
   "outputs": [],
   "source": [
    "pooling_layer = layers.GlobalAveragePooling1D()"
   ]
  },
  {
   "cell_type": "code",
   "execution_count": 8,
   "metadata": {},
   "outputs": [],
   "source": [
    "x = text_vectorizer(reviews[\"reviews\"])\n",
    "x = embedding(x)\n",
    "x = pooling_layer(x)"
   ]
  },
  {
   "cell_type": "code",
   "execution_count": 9,
   "metadata": {},
   "outputs": [
    {
     "data": {
      "text/html": [
       "<style>#sk-container-id-1 {color: black;background-color: white;}#sk-container-id-1 pre{padding: 0;}#sk-container-id-1 div.sk-toggleable {background-color: white;}#sk-container-id-1 label.sk-toggleable__label {cursor: pointer;display: block;width: 100%;margin-bottom: 0;padding: 0.3em;box-sizing: border-box;text-align: center;}#sk-container-id-1 label.sk-toggleable__label-arrow:before {content: \"▸\";float: left;margin-right: 0.25em;color: #696969;}#sk-container-id-1 label.sk-toggleable__label-arrow:hover:before {color: black;}#sk-container-id-1 div.sk-estimator:hover label.sk-toggleable__label-arrow:before {color: black;}#sk-container-id-1 div.sk-toggleable__content {max-height: 0;max-width: 0;overflow: hidden;text-align: left;background-color: #f0f8ff;}#sk-container-id-1 div.sk-toggleable__content pre {margin: 0.2em;color: black;border-radius: 0.25em;background-color: #f0f8ff;}#sk-container-id-1 input.sk-toggleable__control:checked~div.sk-toggleable__content {max-height: 200px;max-width: 100%;overflow: auto;}#sk-container-id-1 input.sk-toggleable__control:checked~label.sk-toggleable__label-arrow:before {content: \"▾\";}#sk-container-id-1 div.sk-estimator input.sk-toggleable__control:checked~label.sk-toggleable__label {background-color: #d4ebff;}#sk-container-id-1 div.sk-label input.sk-toggleable__control:checked~label.sk-toggleable__label {background-color: #d4ebff;}#sk-container-id-1 input.sk-hidden--visually {border: 0;clip: rect(1px 1px 1px 1px);clip: rect(1px, 1px, 1px, 1px);height: 1px;margin: -1px;overflow: hidden;padding: 0;position: absolute;width: 1px;}#sk-container-id-1 div.sk-estimator {font-family: monospace;background-color: #f0f8ff;border: 1px dotted black;border-radius: 0.25em;box-sizing: border-box;margin-bottom: 0.5em;}#sk-container-id-1 div.sk-estimator:hover {background-color: #d4ebff;}#sk-container-id-1 div.sk-parallel-item::after {content: \"\";width: 100%;border-bottom: 1px solid gray;flex-grow: 1;}#sk-container-id-1 div.sk-label:hover label.sk-toggleable__label {background-color: #d4ebff;}#sk-container-id-1 div.sk-serial::before {content: \"\";position: absolute;border-left: 1px solid gray;box-sizing: border-box;top: 0;bottom: 0;left: 50%;z-index: 0;}#sk-container-id-1 div.sk-serial {display: flex;flex-direction: column;align-items: center;background-color: white;padding-right: 0.2em;padding-left: 0.2em;position: relative;}#sk-container-id-1 div.sk-item {position: relative;z-index: 1;}#sk-container-id-1 div.sk-parallel {display: flex;align-items: stretch;justify-content: center;background-color: white;position: relative;}#sk-container-id-1 div.sk-item::before, #sk-container-id-1 div.sk-parallel-item::before {content: \"\";position: absolute;border-left: 1px solid gray;box-sizing: border-box;top: 0;bottom: 0;left: 50%;z-index: -1;}#sk-container-id-1 div.sk-parallel-item {display: flex;flex-direction: column;z-index: 1;position: relative;background-color: white;}#sk-container-id-1 div.sk-parallel-item:first-child::after {align-self: flex-end;width: 50%;}#sk-container-id-1 div.sk-parallel-item:last-child::after {align-self: flex-start;width: 50%;}#sk-container-id-1 div.sk-parallel-item:only-child::after {width: 0;}#sk-container-id-1 div.sk-dashed-wrapped {border: 1px dashed gray;margin: 0 0.4em 0.5em 0.4em;box-sizing: border-box;padding-bottom: 0.4em;background-color: white;}#sk-container-id-1 div.sk-label label {font-family: monospace;font-weight: bold;display: inline-block;line-height: 1.2em;}#sk-container-id-1 div.sk-label-container {text-align: center;}#sk-container-id-1 div.sk-container {/* jupyter's `normalize.less` sets `[hidden] { display: none; }` but bootstrap.min.css set `[hidden] { display: none !important; }` so we also need the `!important` here to be able to override the default hidden behavior on the sphinx rendered scikit-learn.org. See: https://github.com/scikit-learn/scikit-learn/issues/21755 */display: inline-block !important;position: relative;}#sk-container-id-1 div.sk-text-repr-fallback {display: none;}</style><div id=\"sk-container-id-1\" class=\"sk-top-container\"><div class=\"sk-text-repr-fallback\"><pre>NearestNeighbors(algorithm=&#x27;ball_tree&#x27;, n_neighbors=10)</pre><b>In a Jupyter environment, please rerun this cell to show the HTML representation or trust the notebook. <br />On GitHub, the HTML representation is unable to render, please try loading this page with nbviewer.org.</b></div><div class=\"sk-container\" hidden><div class=\"sk-item\"><div class=\"sk-estimator sk-toggleable\"><input class=\"sk-toggleable__control sk-hidden--visually\" id=\"sk-estimator-id-1\" type=\"checkbox\" checked><label for=\"sk-estimator-id-1\" class=\"sk-toggleable__label sk-toggleable__label-arrow\">NearestNeighbors</label><div class=\"sk-toggleable__content\"><pre>NearestNeighbors(algorithm=&#x27;ball_tree&#x27;, n_neighbors=10)</pre></div></div></div></div></div>"
      ],
      "text/plain": [
       "NearestNeighbors(algorithm='ball_tree', n_neighbors=10)"
      ]
     },
     "execution_count": 9,
     "metadata": {},
     "output_type": "execute_result"
    }
   ],
   "source": [
    "nn = NearestNeighbors(n_neighbors=10,algorithm='ball_tree',p=2)\n",
    "nn.fit(x)"
   ]
  },
  {
   "cell_type": "code",
   "execution_count": 10,
   "metadata": {},
   "outputs": [
    {
     "data": {
      "text/plain": [
       "['saved_model\\\\nearest_neighbors.joblib']"
      ]
     },
     "execution_count": 10,
     "metadata": {},
     "output_type": "execute_result"
    }
   ],
   "source": [
    "# Save model\n",
    "directory = \"saved_model\"\n",
    "\n",
    "if not os.path.exists(directory):\n",
    "    os.makedirs(directory)\n",
    "\n",
    "# Define the file path\n",
    "file_path = os.path.join(directory, \"nearest_neighbors.joblib\")\n",
    "joblib.dump(nn, file_path)"
   ]
  },
  {
   "cell_type": "code",
   "execution_count": 11,
   "metadata": {},
   "outputs": [],
   "source": [
    "# Load model\n",
    "if  os.path.exists(directory):\n",
    "    nn = joblib.load(file_path)"
   ]
  },
  {
   "cell_type": "code",
   "execution_count": 50,
   "metadata": {},
   "outputs": [],
   "source": [
    "text = embedding(text_vectorizer('batman'))\n",
    "neighbours = nn.kneighbors(text, return_distance=False)"
   ]
  },
  {
   "cell_type": "code",
   "execution_count": 39,
   "metadata": {},
   "outputs": [
    {
     "data": {
      "text/plain": [
       "(200, 10)"
      ]
     },
     "execution_count": 39,
     "metadata": {},
     "output_type": "execute_result"
    }
   ],
   "source": [
    "neighbours.shape\n"
   ]
  },
  {
   "cell_type": "code",
   "execution_count": 51,
   "metadata": {
    "scrolled": true
   },
   "outputs": [
    {
     "name": "stdout",
     "output_type": "stream",
     "text": [
      "Movie Title: The Dressmaker Genre:['Drama', 'Comedy', 'Western']\n"
     ]
    },
    {
     "data": {
      "text/html": [
       "<img src=\"https://image.tmdb.org/t/p/w780/o0Og4rsOhdk8KIZdGcSR1cjhj7Q.jpg\" width=\"100\" height=\"100\"/>"
      ],
      "text/plain": [
       "<IPython.core.display.Image object>"
      ]
     },
     "metadata": {},
     "output_type": "display_data"
    },
    {
     "name": "stdout",
     "output_type": "stream",
     "text": [
      "========================================\n",
      "Movie Title: The Avengers Genre:['Thriller', 'Science Fiction']\n"
     ]
    },
    {
     "data": {
      "text/html": [
       "<img src=\"https://image.tmdb.org/t/p/w780/1p5thyQ4pCy876HpdvFARqJ62N9.jpg\" width=\"100\" height=\"100\"/>"
      ],
      "text/plain": [
       "<IPython.core.display.Image object>"
      ]
     },
     "metadata": {},
     "output_type": "display_data"
    },
    {
     "name": "stdout",
     "output_type": "stream",
     "text": [
      "========================================\n",
      "Movie Title: Ben Gen 10 Genre:[]\n"
     ]
    },
    {
     "data": {
      "text/html": [
       "<img src=\"https://image.tmdb.org/t/p/w780/jpRxcK8MWOlJjfuAfqs6Tgt7npz.jpg\" width=\"100\" height=\"100\"/>"
      ],
      "text/plain": [
       "<IPython.core.display.Image object>"
      ]
     },
     "metadata": {},
     "output_type": "display_data"
    },
    {
     "name": "stdout",
     "output_type": "stream",
     "text": [
      "========================================\n",
      "Movie Title: Afternoon Delight Genre:['Comedy', 'Drama']\n"
     ]
    },
    {
     "data": {
      "text/html": [
       "<img src=\"https://image.tmdb.org/t/p/w780/qlgPBk5xZzHHPfrimBFV46QuktX.jpg\" width=\"100\" height=\"100\"/>"
      ],
      "text/plain": [
       "<IPython.core.display.Image object>"
      ]
     },
     "metadata": {},
     "output_type": "display_data"
    },
    {
     "name": "stdout",
     "output_type": "stream",
     "text": [
      "========================================\n",
      "Movie Title: Honey: Rise Up and Dance Genre:['Music', 'Drama']\n"
     ]
    },
    {
     "data": {
      "text/html": [
       "<img src=\"https://image.tmdb.org/t/p/w780/gzxUNGk79dHk2mUb5HrhvooHScV.jpg\" width=\"100\" height=\"100\"/>"
      ],
      "text/plain": [
       "<IPython.core.display.Image object>"
      ]
     },
     "metadata": {},
     "output_type": "display_data"
    },
    {
     "name": "stdout",
     "output_type": "stream",
     "text": [
      "========================================\n",
      "Movie Title: War Horse Genre:['War', 'Drama', 'Action']\n"
     ]
    },
    {
     "data": {
      "text/html": [
       "<img src=\"https://image.tmdb.org/t/p/w780/7KHz6JlJhrFAPesmUkgdnLrSr8Y.jpg\" width=\"100\" height=\"100\"/>"
      ],
      "text/plain": [
       "<IPython.core.display.Image object>"
      ]
     },
     "metadata": {},
     "output_type": "display_data"
    },
    {
     "name": "stdout",
     "output_type": "stream",
     "text": [
      "========================================\n",
      "Movie Title: The Banana Splits Movie Genre:['Comedy', 'Horror', 'Science Fiction', 'Thriller']\n"
     ]
    },
    {
     "data": {
      "text/html": [
       "<img src=\"https://image.tmdb.org/t/p/w780/vG9FY2wHVwOOQfqNlUt2LbRzRNl.jpg\" width=\"100\" height=\"100\"/>"
      ],
      "text/plain": [
       "<IPython.core.display.Image object>"
      ]
     },
     "metadata": {},
     "output_type": "display_data"
    },
    {
     "name": "stdout",
     "output_type": "stream",
     "text": [
      "========================================\n",
      "Movie Title: Kiss Kiss Bang Bang Genre:['Comedy', 'Crime', 'Mystery']\n"
     ]
    },
    {
     "data": {
      "text/html": [
       "<img src=\"https://image.tmdb.org/t/p/w780/aWfjIkpENFX6Uw82pET7EQ6jnrd.jpg\" width=\"100\" height=\"100\"/>"
      ],
      "text/plain": [
       "<IPython.core.display.Image object>"
      ]
     },
     "metadata": {},
     "output_type": "display_data"
    },
    {
     "name": "stdout",
     "output_type": "stream",
     "text": [
      "========================================\n",
      "Movie Title: Alexander Genre:['War', 'History', 'Action', 'Adventure', 'Drama', 'Romance']\n"
     ]
    },
    {
     "data": {
      "text/html": [
       "<img src=\"https://image.tmdb.org/t/p/w780/jrwQu72sGwGqwE8Ijne89PSIvhp.jpg\" width=\"100\" height=\"100\"/>"
      ],
      "text/plain": [
       "<IPython.core.display.Image object>"
      ]
     },
     "metadata": {},
     "output_type": "display_data"
    },
    {
     "name": "stdout",
     "output_type": "stream",
     "text": [
      "========================================\n",
      "Movie Title: Doctor Who: A Christmas Carol Genre:['Science Fiction']\n"
     ]
    },
    {
     "data": {
      "text/html": [
       "<img src=\"https://image.tmdb.org/t/p/w780/hBcRd2e52ddwjjLzjxUJzdD4EEk.jpg\" width=\"100\" height=\"100\"/>"
      ],
      "text/plain": [
       "<IPython.core.display.Image object>"
      ]
     },
     "metadata": {},
     "output_type": "display_data"
    },
    {
     "name": "stdout",
     "output_type": "stream",
     "text": [
      "========================================\n"
     ]
    }
   ],
   "source": [
    "for index in neighbours[0]:\n",
    "    movie_info = reviews.iloc[index-1][[\"title\",'genre', \"poster_path\"]]\n",
    "    movie_title = movie_info[\"title\"]\n",
    "    movie_genre = movie_info['genre']\n",
    "    poster_path = movie_info[\"poster_path\"]\n",
    "    \n",
    "    print(f\"Movie Title: {movie_title} Genre:{movie_genre}\")\n",
    "    \n",
    "    if poster_path:\n",
    "        display(Image(url=poster_path, width=100, height=100))\n",
    "    else:\n",
    "        print(\"Poster not available\")\n",
    "    \n",
    "    print(\"=\" * 40)\n"
   ]
  }
 ],
 "metadata": {
  "kernelspec": {
   "display_name": "Python 3 (ipykernel)",
   "language": "python",
   "name": "python3"
  },
  "language_info": {
   "codemirror_mode": {
    "name": "ipython",
    "version": 3
   },
   "file_extension": ".py",
   "mimetype": "text/x-python",
   "name": "python",
   "nbconvert_exporter": "python",
   "pygments_lexer": "ipython3",
   "version": "3.11.3"
  }
 },
 "nbformat": 4,
 "nbformat_minor": 1
}
